{
 "cells": [
  {
   "cell_type": "code",
   "execution_count": 1,
   "metadata": {
    "collapsed": true
   },
   "outputs": [],
   "source": [
    "from __future__ import print_function"
   ]
  },
  {
   "cell_type": "code",
   "execution_count": 181,
   "metadata": {
    "collapsed": false,
    "scrolled": true
   },
   "outputs": [],
   "source": [
    "from brian2 import *\n",
    "%matplotlib inline\n",
    "def net (*args):\n",
    "    wmax=5\n",
    "    tauV = 50*ms\n",
    "    tauI = 90*ms\n",
    "    taupre = 50*ms\n",
    "    taupost = 50*ms\n",
    "    Apre = 0.05\n",
    "    Apost = -1.05*Apre*taupre/taupost\n",
    "    eqs = '''\n",
    "    dI/dt=-I/tauI :1 \n",
    "    dv/dt=(I-v)/tauV :1 (unless refractory)\n",
    "    '''\n",
    "    Gin=NeuronGroup(4,eqs,threshold='v > 1.9',reset='v = 0',refractory=500*ms,method='linear')\n",
    "    Gin.v=args[1]\n",
    "    Gout=NeuronGroup(2,eqs,threshold='v > 0.9',reset='v = 0',refractory=200*ms,method='linear')\n",
    "    if len(args)>2:\n",
    "        Gout.v=args[2]\n",
    "    S=Synapses(Gin,Gout,\n",
    "               '''\n",
    "               w :1\n",
    "               dapre/dt = -apre/taupre : 1 (event-driven)\n",
    "               dapost/dt = -apost/taupost : 1 (event-driven)\n",
    "               ''',\n",
    "               on_pre='''\n",
    "               I_post+= w\n",
    "               apre += Apre\n",
    "               w = clip(w+apost, 0, wmax)\n",
    "               ''',\n",
    "               on_post='''\n",
    "               apost += Apost\n",
    "               w = clip(w+apre, 0, wmax)\n",
    "               ''', method='linear')\n",
    "    S.connect(condition='0==0')\n",
    "    S.w=args[0]\n",
    "    M=SpikeMonitor(Gout)\n",
    "    run(400*ms)\n",
    "    return S.w,M.i"
   ]
  },
  {
   "cell_type": "code",
   "execution_count": 182,
   "metadata": {
    "collapsed": false
   },
   "outputs": [],
   "source": [
    "f = open('input.txt')\n",
    "res=[]\n",
    "inp=[]\n",
    "ans=[]\n",
    "for line in f:\n",
    "    res.append(line[:3].split(','))\n",
    "    inp.append(line[4:11].split(','))\n",
    "f.close()\n",
    "weight=[0,0,0,0,0,0,0,0]\n",
    "for i in range(len(res)):\n",
    "    for j in range(2):\n",
    "        res[i][j]=float(res[i][j])\n",
    "    for j in range(4):\n",
    "        inp[i][j]=float(inp[i][j])"
   ]
  },
  {
   "cell_type": "code",
   "execution_count": 183,
   "metadata": {
    "collapsed": false,
    "scrolled": true
   },
   "outputs": [],
   "source": [
    "for i in range(len(res)):\n",
    "    weight,cur=net(weight,inp[i],res[i])"
   ]
  },
  {
   "cell_type": "code",
   "execution_count": 184,
   "metadata": {
    "collapsed": false,
    "scrolled": true
   },
   "outputs": [],
   "source": [
    "f = open('test.txt')\n",
    "res_true=[]\n",
    "inp_true=[]\n",
    "ans=[]\n",
    "for line in f:\n",
    "    res_true.append(line[:3].split(','))\n",
    "    inp_true.append(line[4:11].split(','))\n",
    "f.close()\n",
    "for i in range(len(res_true)):\n",
    "    for j in range(2):\n",
    "        res_true[i][j]=float(res_true[i][j])\n",
    "    for j in range(4):\n",
    "        inp_true[i][j]=float(inp_true[i][j])\n",
    "for i in range(len(res_true)):\n",
    "    cur1,cur=net(weight,inp_true[i])\n",
    "    ans.append(cur)"
   ]
  },
  {
   "cell_type": "code",
   "execution_count": 185,
   "metadata": {
    "collapsed": false
   },
   "outputs": [
    {
     "name": "stdout",
     "output_type": "stream",
     "text": [
      "[<spikemonitor_1.i: array([0])>, <spikemonitor_1.i: array([1])>, <spikemonitor_1.i: array([0, 1])>, <spikemonitor_1.i: array([], dtype=int32)>, <spikemonitor_1.i: array([], dtype=int32)>]\n",
      "[[1.0, 0.0], [0.0, 1.0], [1.0, 1.0], [0.0, 0.0], [0.0, 0.0]]\n"
     ]
    }
   ],
   "source": [
    "from sklearn.metrics import accuracy_score\n",
    "#print accuracy_score(ans, res_true)\n",
    "print(ans)\n",
    "print(res_true)"
   ]
  },
  {
   "cell_type": "code",
   "execution_count": 186,
   "metadata": {
    "collapsed": false
   },
   "outputs": [
    {
     "name": "stdout",
     "output_type": "stream",
     "text": [
      "<synapses_1.w: array([ 1.25,  0.5 ,  1.25,  0.5 ,  0.5 ,  1.25,  0.5 ,  1.25])>\n"
     ]
    }
   ],
   "source": [
    "#print([ 2.6277672 ,  1.17790782,  2.61546157,  1.16065944,  1.21982682, 2.62734734,  1.20752118,  2.61009896])\n",
    "print(weight)"
   ]
  },
  {
   "cell_type": "code",
   "execution_count": null,
   "metadata": {
    "collapsed": true
   },
   "outputs": [],
   "source": [
    "for i in range(len(ans)):\n",
    "    print(ans[i])\n",
    "    if len(ans[i])==0:\n",
    "        ans[i]=[0,0]\n",
    "    if len(ans[i])==1:\n",
    "        cur=[0,0]\n",
    "        cur[ans[i][0]]=1;\n",
    "        ans[i]=cur\n",
    "    if len(ans[i])==2:\n",
    "        ans[i]=[1,1]\n",
    "    print(ans[i])"
   ]
  },
  {
   "cell_type": "code",
   "execution_count": null,
   "metadata": {
    "collapsed": true
   },
   "outputs": [],
   "source": []
  }
 ],
 "metadata": {
  "anaconda-cloud": {},
  "kernelspec": {
   "display_name": "Python [conda root]",
   "language": "python",
   "name": "conda-root-py"
  },
  "language_info": {
   "codemirror_mode": {
    "name": "ipython",
    "version": 2
   },
   "file_extension": ".py",
   "mimetype": "text/x-python",
   "name": "python",
   "nbconvert_exporter": "python",
   "pygments_lexer": "ipython2",
   "version": "2.7.12"
  }
 },
 "nbformat": 4,
 "nbformat_minor": 2
}
